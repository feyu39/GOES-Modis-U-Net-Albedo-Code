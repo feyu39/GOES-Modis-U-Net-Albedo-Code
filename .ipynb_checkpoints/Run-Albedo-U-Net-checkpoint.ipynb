{
 "cells": [
  {
   "cell_type": "code",
   "execution_count": 3,
   "id": "8c0dd56c-d282-4f2d-b1e4-868c0ba6c623",
   "metadata": {
    "tags": []
   },
   "outputs": [
    {
     "ename": "AttributeError",
     "evalue": "'str' object has no attribute 'name'",
     "output_type": "error",
     "traceback": [
      "\u001b[0;31m---------------------------------------------------------------------------\u001b[0m",
      "\u001b[0;31mAttributeError\u001b[0m                            Traceback (most recent call last)",
      "File \u001b[0;32m/global/u1/f/feyu39/U-Net/Felix/Albedo-U-Net.py:323\u001b[0m\n\u001b[1;32m    320\u001b[0m     \u001b[38;5;28mprint\u001b[39m (\u001b[38;5;124mf\u001b[39m\u001b[38;5;124m\"\u001b[39m\u001b[38;5;124mTime: \u001b[39m\u001b[38;5;132;01m{\u001b[39;00mtime\u001b[38;5;241m.\u001b[39mtime()\u001b[38;5;241m-\u001b[39mstart\u001b[38;5;132;01m}\u001b[39;00m\u001b[38;5;124m seconds\u001b[39m\u001b[38;5;124m\"\u001b[39m)\n\u001b[1;32m    322\u001b[0m \u001b[38;5;28;01mif\u001b[39;00m \u001b[38;5;18m__name__\u001b[39m \u001b[38;5;241m==\u001b[39m \u001b[38;5;124m\"\u001b[39m\u001b[38;5;124m__main__\u001b[39m\u001b[38;5;124m\"\u001b[39m:\n\u001b[0;32m--> 323\u001b[0m     \u001b[43mmain\u001b[49m\u001b[43m(\u001b[49m\u001b[43m)\u001b[49m\n",
      "File \u001b[0;32m/global/u1/f/feyu39/U-Net/Felix/Albedo-U-Net.py:258\u001b[0m, in \u001b[0;36mmain\u001b[0;34m()\u001b[0m\n\u001b[1;32m    255\u001b[0m start_date_training_data_str \u001b[38;5;241m=\u001b[39m start_date_training_data\u001b[38;5;241m.\u001b[39mstrftime(\u001b[38;5;124m\"\u001b[39m\u001b[38;5;124m%\u001b[39m\u001b[38;5;124mm/\u001b[39m\u001b[38;5;132;01m%d\u001b[39;00m\u001b[38;5;124m/\u001b[39m\u001b[38;5;124m%\u001b[39m\u001b[38;5;124mY\u001b[39m\u001b[38;5;124m\"\u001b[39m)\n\u001b[1;32m    256\u001b[0m end_date_training_data_str \u001b[38;5;241m=\u001b[39m end_date_training_data\u001b[38;5;241m.\u001b[39mstrftime(\u001b[38;5;124m\"\u001b[39m\u001b[38;5;124m%\u001b[39m\u001b[38;5;124mm/\u001b[39m\u001b[38;5;132;01m%d\u001b[39;00m\u001b[38;5;124m/\u001b[39m\u001b[38;5;124m%\u001b[39m\u001b[38;5;124mY\u001b[39m\u001b[38;5;124m\"\u001b[39m)\n\u001b[0;32m--> 258\u001b[0m goes_training_data \u001b[38;5;241m=\u001b[39m \u001b[43mget_training_test_data\u001b[49m\u001b[43m(\u001b[49m\u001b[43mstart_date_training_data\u001b[49m\u001b[43m,\u001b[49m\u001b[43m \u001b[49m\u001b[43mend_date_training_data\u001b[49m\u001b[43m,\u001b[49m\u001b[43m \u001b[49m\u001b[38;5;28;43;01mTrue\u001b[39;49;00m\u001b[43m)\u001b[49m\n\u001b[1;32m    259\u001b[0m modis_training_data \u001b[38;5;241m=\u001b[39m get_training_test_data(start_date_training_data, end_date_training_data, \u001b[38;5;28;01mFalse\u001b[39;00m)\n\u001b[1;32m    260\u001b[0m goes_training_data_4d \u001b[38;5;241m=\u001b[39m stack_array_4d(goes_training_data)\n",
      "File \u001b[0;32m/global/u1/f/feyu39/U-Net/Felix/Albedo-U-Net.py:80\u001b[0m, in \u001b[0;36mget_training_test_data\u001b[0;34m(date_start, date_finish, goes)\u001b[0m\n\u001b[1;32m     77\u001b[0m files \u001b[38;5;241m=\u001b[39m (\u001b[38;5;28mlist\u001b[39m(Path(GOES_ALBEDO_DIR)\u001b[38;5;241m.\u001b[39mglob(\u001b[38;5;124m'\u001b[39m\u001b[38;5;124m*tif\u001b[39m\u001b[38;5;124m'\u001b[39m)) \u001b[38;5;28;01mif\u001b[39;00m goes \u001b[38;5;28;01melse\u001b[39;00m (\u001b[38;5;28mlist\u001b[39m(Path(MODIS_BLUE_SKY_ALBEDO_DIR)\u001b[38;5;241m.\u001b[39mglob(\u001b[38;5;124m'\u001b[39m\u001b[38;5;124m*tif\u001b[39m\u001b[38;5;124m'\u001b[39m))))\n\u001b[1;32m     79\u001b[0m \u001b[38;5;28;01mfor\u001b[39;00m filename \u001b[38;5;129;01min\u001b[39;00m files:\n\u001b[0;32m---> 80\u001b[0m     precise_file_date \u001b[38;5;241m=\u001b[39m (\u001b[43mextract_goes_datetime\u001b[49m\u001b[43m(\u001b[49m\u001b[43mfilename\u001b[49m\u001b[38;5;241;43m.\u001b[39;49m\u001b[43mname\u001b[49m\u001b[43m)\u001b[49m \u001b[38;5;28;01mif\u001b[39;00m goes \u001b[38;5;28;01melse\u001b[39;00m extract_modis_datetime(filename))\n\u001b[1;32m     81\u001b[0m     \u001b[38;5;66;03m# Day of the month and year for comparison\u001b[39;00m\n\u001b[1;32m     82\u001b[0m     truncated_file_date \u001b[38;5;241m=\u001b[39m datetime(precise_file_date\u001b[38;5;241m.\u001b[39myear, precise_file_date\u001b[38;5;241m.\u001b[39mmonth, precise_file_date\u001b[38;5;241m.\u001b[39mday)\n",
      "File \u001b[0;32m/global/u1/f/feyu39/U-Net/Felix/Albedo-U-Net.py:58\u001b[0m, in \u001b[0;36mextract_goes_datetime\u001b[0;34m(filename)\u001b[0m\n\u001b[1;32m     56\u001b[0m \u001b[38;5;28;01mdef\u001b[39;00m \u001b[38;5;21mextract_goes_datetime\u001b[39m(filename):\n\u001b[1;32m     57\u001b[0m     \u001b[38;5;66;03m# File format: OR_ABI-L2-LSAC-M6_G16_s20231631826173_e20231631828546_c20231631830241_clipped_reprojected.tif\u001b[39;00m\n\u001b[0;32m---> 58\u001b[0m     match \u001b[38;5;241m=\u001b[39m GOES_DATE_PATTERN\u001b[38;5;241m.\u001b[39msearch(\u001b[43mfilename\u001b[49m\u001b[38;5;241;43m.\u001b[39;49m\u001b[43mname\u001b[49m)\n\u001b[1;32m     59\u001b[0m     \u001b[38;5;28;01mif\u001b[39;00m match:\n\u001b[1;32m     60\u001b[0m         date_str \u001b[38;5;241m=\u001b[39m match\u001b[38;5;241m.\u001b[39mgroup(\u001b[38;5;241m1\u001b[39m)\n",
      "\u001b[0;31mAttributeError\u001b[0m: 'str' object has no attribute 'name'"
     ]
    }
   ],
   "source": [
    "%run Albedo-U-Net.py"
   ]
  },
  {
   "cell_type": "code",
   "execution_count": null,
   "id": "11c7b497-eec0-43d8-9f9c-91499723fd05",
   "metadata": {},
   "outputs": [],
   "source": []
  }
 ],
 "metadata": {
  "kernelspec": {
   "display_name": "NERSC-Albedo-Env",
   "language": "python",
   "name": "sail_nersc"
  },
  "language_info": {
   "codemirror_mode": {
    "name": "ipython",
    "version": 3
   },
   "file_extension": ".py",
   "mimetype": "text/x-python",
   "name": "python",
   "nbconvert_exporter": "python",
   "pygments_lexer": "ipython3",
   "version": "3.12.3"
  }
 },
 "nbformat": 4,
 "nbformat_minor": 5
}
